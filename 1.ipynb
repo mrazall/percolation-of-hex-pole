{
 "cells": [
  {
   "cell_type": "code",
   "execution_count": 2,
   "metadata": {},
   "outputs": [],
   "source": [
    "import numpy as np\n",
    "import matplotlib.pyplot as plt\n",
    "import scipy as sc\n",
    "%matplotlib inline\n",
    "\n",
    "f = open('seed.txt', 'r')\n",
    "\n",
    "r = np.random.MT19937(int(f.readline()))"
   ]
  },
  {
   "attachments": {},
   "cell_type": "markdown",
   "metadata": {},
   "source": [
    "Напишем функцию вывода поля в более читаемом виде"
   ]
  },
  {
   "cell_type": "code",
   "execution_count": 2,
   "metadata": {},
   "outputs": [],
   "source": [
    "def print_hex(pole, r1=None,r2=None):    \n",
    "    for i, row in enumerate(pole):\n",
    "        h = '' if i % 2 != 0 else '  '\n",
    "        t = '  ' if i % 2 != 0 else ''\n",
    "        print('{:3d} '.format(i), f'|{h}', sep='', end='')\n",
    "        for cell in row:\n",
    "            print('{:4d}'.format(cell), end='')\n",
    "        print(f'  {t}|', end='')\n",
    "\n",
    "        if r1 is not None:\n",
    "            print('  {:3d} '.format(i), f'|{h}', sep='', end='')\n",
    "            for cell in r1[i,:]:\n",
    "                print('{:4d}'.format(cell), end='')\n",
    "            print(f'  {t}|', end='')\n",
    "        if r2 is not None:\n",
    "            print('  {:3d} '.format(i), f'|{h}', sep='', end='')\n",
    "            for cell in r2[i,:]:\n",
    "                print('{:4d}'.format(cell), end='')\n",
    "            print(f'  {t}|', end='')\n",
    "        print()"
   ]
  },
  {
   "attachments": {},
   "cell_type": "markdown",
   "metadata": {},
   "source": [
    "Реализуем функцию, определяющую протекание. Именно она будет определять существование протекания слева направо или сверху вниз. $$k = 1$$ - протекание по оси $n$, $$k = 2$$ - протекание по оси $m$"
   ]
  },
  {
   "cell_type": "code",
   "execution_count": 3,
   "metadata": {},
   "outputs": [],
   "source": [
    "def pr_tor(pole, k):\n",
    "    flag = False\n",
    "    if k == 1:\n",
    "       for i in range(len(pole[0])):\n",
    "        if pole[0, i] == pole[-1, i] and pole[0, i] !=0:\n",
    "            flag = True\n",
    "    elif k == 2:\n",
    "        for i in range(len(pole)):\n",
    "            if pole[i, 0] == pole[i, -1] and pole[i, 0] !=0:\n",
    "                flag = True\n",
    "\n",
    "    return flag"
   ]
  },
  {
   "cell_type": "code",
   "execution_count": 4,
   "metadata": {},
   "outputs": [
    {
     "data": {
      "text/plain": [
       "True"
      ]
     },
     "execution_count": 4,
     "metadata": {},
     "output_type": "execute_result"
    }
   ],
   "source": [
    "a = np.zeros((5,5))\n",
    "a[0,0] = 1\n",
    "a[0, -1] = 1\n",
    "pr_tor(a, 2)"
   ]
  },
  {
   "attachments": {},
   "cell_type": "markdown",
   "metadata": {},
   "source": [
    "Теперь напишем функцию, которая будет закрашивать ячейку"
   ]
  },
  {
   "cell_type": "code",
   "execution_count": 5,
   "metadata": {},
   "outputs": [],
   "source": [
    "def fill(n, m, p, r):\n",
    "    pole = np.zeros((n, m), dtype=int)\n",
    "    for i in range(n):\n",
    "        for j in range(m):\n",
    "            if r.random_raw()/((2**32)-1) < p:\n",
    "                pole[i, j] = 1\n",
    "                \n",
    "    return pole\n",
    "\n"
   ]
  },
  {
   "attachments": {},
   "cell_type": "markdown",
   "metadata": {},
   "source": [
    "Алгоритм Хошена-Копельмана для шестиугольной решетки"
   ]
  },
  {
   "cell_type": "code",
   "execution_count": 7,
   "metadata": {},
   "outputs": [],
   "source": [
    "def HK_fix(pole):\n",
    "    n, m = np.shape(pole)\n",
    "    cl = np.arange(1, m*n)\n",
    "    pole = np.hstack((pole,np.zeros((n, 1), dtype = int)))\n",
    "    pole = np.vstack((pole,np.zeros((1, m+1), dtype = int)))\n",
    "    pc = np.zeros((n,m), dtype=int)\n",
    "    #print_hex(pole)\n",
    "    n_cl = 0\n",
    "    for i in range(n):\n",
    "        for j in range(m):\n",
    "            #Если клетка активна\n",
    "            if pole[i, j] != 0:\n",
    "                #Случай когда строка нечетная\n",
    "                if i%2 != 0:\n",
    "                    # Случай номер 1. Все клетки вокруг нулевые\n",
    "                    if pole[i,j-1] == 0 and pole[i-1, j] == 0 and pole[i-1, j-1] == 0:\n",
    "                        # Присваиваем клекте новый номер кластера\n",
    "                        pc[i,j] = cl[n_cl]\n",
    "                        #Увеличиваем индекс для следующего кластера\n",
    "                        n_cl +=1    \n",
    "                    #Случай 2. Одна из клеток вокруг не нулевая.\n",
    "                    # Это значит, что мы присваиваем текущей клетке номер ненулевой клетки\n",
    "                    elif pole[i,j-1] != 0 and pole[i-1, j] == 0 and pole[i-1, j-1] == 0:\n",
    "                        pc[i, j] = pc[i, j-1]\n",
    "                    elif pole[i,j-1] == 0 and pole[i-1, j] != 0 and pole[i-1, j-1] == 0:\n",
    "                        pc[i, j] = pc[i-1, j]\n",
    "                    elif pole[i,j-1] == 0 and pole[i-1, j] == 0 and pole[i-1, j-1] != 0:\n",
    "                        pc[i, j] = pc[i-1, j-1]\n",
    "                    elif pole[i,j-1] != 0 and pole[i-1, j] != 0 and pole[i-1, j-1] == 0:\n",
    "                        q = min(pc[i, j -1], pc[i-1, j])\n",
    "                        pc[i, j] = q\n",
    "                        pc[pc == pc[i, j-1]] = q\n",
    "                        pc[pc == pc[i-1, j]] = q\n",
    "                    elif pole[i,j-1] != 0 and pole[i-1, j] == 0 and pole[i-1, j-1] != 0:\n",
    "                        q = min(pc[i, j -1], pc[i-1, j-1])\n",
    "                        pc[i, j] = q\n",
    "                        pc[pc == pc[i, j-1]] = q\n",
    "                        pc[pc==pc[i-1, j-1]] = q\n",
    "                    elif pole[i,j-1] == 0 and pole[i-1, j] != 0 and pole[i-1, j-1] != 0:\n",
    "                        q = min(pc[i-1, j], pc[i-1, j-1])\n",
    "                        pc[i, j] = q\n",
    "                        pc[pc == pc[i-1, j]] =  q\n",
    "                        pc[pc == pc[i-1, j-1]] =  q\n",
    "                    elif pole[i,j-1] != 0 and pole[i-1, j] != 0 and pole[i-1, j-1] != 0:\n",
    "                        q = min(pc[i, j -1], pc[i-1, j], pc[i-1, j-1])\n",
    "                        pc[i, j] = q\n",
    "                        pc[pc == pc[i-1, j-1]] = q\n",
    "                        pc[pc == pc[i-1, j]] = q\n",
    "                        pc[pc== pc[i, j-1]] = q \n",
    "                #Когда строка четная    \n",
    "                else:\n",
    "                    if pole[i,j-1] == 0 and pole[i-1, j] == 0 and pole[i-1, j+1] == 0:\n",
    "                        pc[i,j] = cl[n_cl]\n",
    "                        n_cl +=1\n",
    "                    elif pole[i,j-1] != 0 and pole[i-1, j] == 0 and pole[i-1, j+1] == 0:\n",
    "                        pc[i, j] = pc[i, j-1]\n",
    "                    elif pole[i,j-1] == 0 and pole[i-1, j] != 0 and pole[i-1, j+1] == 0:\n",
    "                        pc[i, j] = pc[i-1, j]\n",
    "                    elif pole[i,j-1] == 0 and pole[i-1, j] == 0 and pole[i-1, j+1] != 0:\n",
    "                        pc[i, j] = pc[i-1, j+1]\n",
    "                    elif pole[i,j-1] != 0 and pole[i-1, j] != 0 and pole[i-1, j+1] == 0:\n",
    "                        q = min(pc[i, j -1], pc[i-1, j])\n",
    "                        pc[i, j] = q\n",
    "                        pc[pc==pc[i, j-1]] = q\n",
    "                        pc[pc==pc[i-1, j]] = q\n",
    "                    elif pole[i,j-1] != 0 and pole[i-1, j] == 0 and pole[i-1, j+1] != 0:\n",
    "                        q = min(pc[i, j -1], pc[i-1, j+1])\n",
    "                        pc[i, j] = q\n",
    "                        pc[pc ==pc[i, j-1]] = q\n",
    "                        pc[pc == pc[i-1, j+1]] = q\n",
    "                    elif pole[i,j-1] == 0 and pole[i-1, j] != 0 and pole[i-1, j+1] != 0:\n",
    "                        q = min(pc[i-1, j], pc[i-1, j+1])\n",
    "                        pc[i, j] = q\n",
    "                        pc[pc == pc[i-1, j]] =  q\n",
    "                        pc[pc == pc[i-1, j+1]] =  q\n",
    "                    elif pole[i,j-1] != 0 and pole[i-1, j] != 0 and pole[i-1, j+1] != 0:\n",
    "                        q = min(pc[i, j -1], pc[i-1, j], pc[i-1, j+1])\n",
    "                        pc[i, j] = q\n",
    "                        pc[pc == pc[i, j-1]] = q\n",
    "                        pc[pc == pc[i-1, j]] = q\n",
    "                        pc[pc == pc[i-1, j+1]] = q \n",
    "\n",
    "    return pc"
   ]
  },
  {
   "attachments": {},
   "cell_type": "markdown",
   "metadata": {},
   "source": [
    "Теперь у нас реализованы все необходимые функции $$ 1) hk (pole) $$ Алгоритм Хошена-Копельмана, где $pole$ - исходное поле $$2)fill (pole, p)$$ И функция заполнения, где $p$ - вероятность заполения ячейки $0<p<1$"
   ]
  },
  {
   "cell_type": "code",
   "execution_count": 3,
   "metadata": {},
   "outputs": [],
   "source": [
    "n, m = 100, 100\n",
    "p = np.arange(0, 1, 0.005)\n"
   ]
  },
  {
   "cell_type": "code",
   "execution_count": 21,
   "metadata": {},
   "outputs": [],
   "source": [
    "\n",
    "qv = []\n",
    "qh = []\n",
    "qb = []\n",
    "\n",
    "for t in p:\n",
    "    qhi = 0\n",
    "    qvi = 0\n",
    "    qbi = 0\n",
    "    for i in range(100):\n",
    "        pole = np.zeros((n,m), dtype = int)\n",
    "        \n",
    "        res = HK_fix(fill(n,m, t, r))\n",
    "        a_n, a_m = pr_tor(res, 1), pr_tor(res, 2)\n",
    "        if a_n:\n",
    "            qvi+=1\n",
    "        if a_m:\n",
    "            qhi+=1\n",
    "        if a_n and a_m:\n",
    "            qbi+=1\n",
    "        #print('Вероятность равна',t)\n",
    "        #print(a_n, a_m)\n",
    "        #print_hex(res)\n",
    "        #print()\n",
    "\n",
    "    qh.append(qhi)\n",
    "    qv.append(qvi)\n",
    "    qb.append(qbi)\n",
    "\n",
    "\n",
    "\n"
   ]
  },
  {
   "cell_type": "code",
   "execution_count": null,
   "metadata": {},
   "outputs": [],
   "source": []
  },
  {
   "cell_type": "code",
   "execution_count": 22,
   "metadata": {},
   "outputs": [],
   "source": [
    "np.savetxt('qh.txt', qh)\n",
    "np.savetxt('qv.txt', qv)\n",
    "np.savetxt('qb.txt', qb)"
   ]
  },
  {
   "cell_type": "code",
   "execution_count": 4,
   "metadata": {},
   "outputs": [
    {
     "data": {
      "text/plain": [
       "array([0.   , 0.005, 0.01 , 0.015, 0.02 , 0.025, 0.03 , 0.035, 0.04 ,\n",
       "       0.045, 0.05 , 0.055, 0.06 , 0.065, 0.07 , 0.075, 0.08 , 0.085,\n",
       "       0.09 , 0.095, 0.1  , 0.105, 0.11 , 0.115, 0.12 , 0.125, 0.13 ,\n",
       "       0.135, 0.14 , 0.145, 0.15 , 0.155, 0.16 , 0.165, 0.17 , 0.175,\n",
       "       0.18 , 0.185, 0.19 , 0.195, 0.2  , 0.205, 0.21 , 0.215, 0.22 ,\n",
       "       0.225, 0.23 , 0.235, 0.24 , 0.245, 0.25 , 0.255, 0.26 , 0.265,\n",
       "       0.27 , 0.275, 0.28 , 0.285, 0.29 , 0.295, 0.3  , 0.305, 0.31 ,\n",
       "       0.315, 0.32 , 0.325, 0.33 , 0.335, 0.34 , 0.345, 0.35 , 0.355,\n",
       "       0.36 , 0.365, 0.37 , 0.375, 0.38 , 0.385, 0.39 , 0.395, 0.4  ,\n",
       "       0.405, 0.41 , 0.415, 0.42 , 0.425, 0.43 , 0.435, 0.44 , 0.445,\n",
       "       0.45 , 0.455, 0.46 , 0.465, 0.47 , 0.475, 0.48 , 0.485, 0.49 ,\n",
       "       0.495, 0.5  , 0.505, 0.51 , 0.515, 0.52 , 0.525, 0.53 , 0.535,\n",
       "       0.54 , 0.545, 0.55 , 0.555, 0.56 , 0.565, 0.57 , 0.575, 0.58 ,\n",
       "       0.585, 0.59 , 0.595, 0.6  , 0.605, 0.61 , 0.615, 0.62 , 0.625,\n",
       "       0.63 , 0.635, 0.64 , 0.645, 0.65 , 0.655, 0.66 , 0.665, 0.67 ,\n",
       "       0.675, 0.68 , 0.685, 0.69 , 0.695, 0.7  , 0.705, 0.71 , 0.715,\n",
       "       0.72 , 0.725, 0.73 , 0.735, 0.74 , 0.745, 0.75 , 0.755, 0.76 ,\n",
       "       0.765, 0.77 , 0.775, 0.78 , 0.785, 0.79 , 0.795, 0.8  , 0.805,\n",
       "       0.81 , 0.815, 0.82 , 0.825, 0.83 , 0.835, 0.84 , 0.845, 0.85 ,\n",
       "       0.855, 0.86 , 0.865, 0.87 , 0.875, 0.88 , 0.885, 0.89 , 0.895,\n",
       "       0.9  , 0.905, 0.91 , 0.915, 0.92 , 0.925, 0.93 , 0.935, 0.94 ,\n",
       "       0.945, 0.95 , 0.955, 0.96 , 0.965, 0.97 , 0.975, 0.98 , 0.985,\n",
       "       0.99 , 0.995])"
      ]
     },
     "execution_count": 4,
     "metadata": {},
     "output_type": "execute_result"
    }
   ],
   "source": [
    "qh = np.loadtxt('qh.txt')\n",
    "qv = np.loadtxt('qv.txt')\n",
    "qb = np.loadtxt('qb.txt')\n",
    "p"
   ]
  },
  {
   "attachments": {},
   "cell_type": "markdown",
   "metadata": {},
   "source": [
    "Посчитаем дисперсию для данной системы.\n",
    "Математическое ожидание мы можем определить через np.mean()"
   ]
  },
  {
   "cell_type": "code",
   "execution_count": 24,
   "metadata": {},
   "outputs": [
    {
     "name": "stdout",
     "output_type": "stream",
     "text": [
      "48.84\n",
      "49.315\n",
      "48.335\n"
     ]
    }
   ],
   "source": [
    "mean_qh = np.mean(qh)\n",
    "mean_qv = np.mean(qv)\n",
    "mean_qb = np.mean(qb)\n",
    "var_qh = np.var(qh)\n",
    "print(mean_qh, mean_qv, mean_qb, sep = '\\n')"
   ]
  },
  {
   "cell_type": "code",
   "execution_count": 25,
   "metadata": {},
   "outputs": [
    {
     "name": "stdout",
     "output_type": "stream",
     "text": [
      "Дисперсия протекания по горизонтали:  2404.7644000000005\n",
      "Дисперсия протекания по вертикали:  2406.0557750000003\n",
      "Дисперсия протекания по обоим:  2415.132775\n"
     ]
    }
   ],
   "source": [
    "print(\"Дисперсия протекания по горизонтали: \", np.var(qh))\n",
    "print(\"Дисперсия протекания по вертикали: \", np.var(qv))\n",
    "print(\"Дисперсия протекания по обоим: \", np.var(qb))"
   ]
  },
  {
   "cell_type": "code",
   "execution_count": 5,
   "metadata": {},
   "outputs": [
    {
     "data": {
      "text/plain": [
       "[<matplotlib.lines.Line2D at 0x1f17d9a7590>]"
      ]
     },
     "execution_count": 5,
     "metadata": {},
     "output_type": "execute_result"
    },
    {
     "data": {
      "image/png": "[encoded data removed]",
      "text/plain": [
       "<Figure size 640x480 with 1 Axes>"
      ]
     },
     "metadata": {},
     "output_type": "display_data"
    }
   ],
   "source": [
    "\n",
    "fig = plt.figure()\n",
    "ax = fig.add_axes([0, 0, 1, 1])\n",
    "t = ['Протекание по горизонтали', 'Протекание по вертикали', 'Протекание по обоим плоскостям ']\n",
    "name = [qh, qv, qb]\n",
    "color = ['green', 'r', 'black']\n",
    "for i in range(3):\n",
    "    ax.plot(p, name[i], 'o',color = color[i])\n",
    "    ax.errorbar(p, name[i] ,yerr = sc.stats.sem(name[i]), color = 'purple', linewidth = 0.5)\n",
    "    ax.set_ylabel('Количество перколяций')\n",
    "    ax.set_xlabel('Вероятность заполнения ячейки')\n",
    "ax.legend(t)\n",
    "ax.plot( [0,1],[50, 50])"
   ]
  },
  {
   "cell_type": "code",
   "execution_count": 27,
   "metadata": {},
   "outputs": [
    {
     "data": {
      "text/plain": [
       "<matplotlib.legend.Legend at 0x187eeea7f70>"
      ]
     },
     "execution_count": 27,
     "metadata": {},
     "output_type": "execute_result"
    },
    {
     "data": {
      "image/png": "[encoded data removed]",
      "text/plain": [
       "<Figure size 640x480 with 1 Axes>"
      ]
     },
     "metadata": {},
     "output_type": "display_data"
    }
   ],
   "source": [
    "fig = plt.figure()\n",
    "ax = fig.add_axes([0, 0, 1, 1])\n",
    "t = ['Протекание по горизонтали', 'Протекание по вертикали', 'Протекание по обоим плоскостям ']\n",
    "name = [qh, qv, qb]\n",
    "color = ['green', 'r', 'black']\n",
    "for i in range(3):\n",
    "    ax.plot(p, name[i],color = color[i])\n",
    "    #ax.errorbar(p, name[i] ,yerr = sc.stats.sem(name[i]), color = 'purple', linewidth = 0.5)\n",
    "    ax.set_ylabel('Количество экспериментов')\n",
    "    ax.set_xlabel('Вероятность заполнения ячейки')\n",
    "ax.legend(t)"
   ]
  },
  {
   "attachments": {},
   "cell_type": "markdown",
   "metadata": {},
   "source": [
    "Рассмотреть на уровне 50 при размерах квадартной решетки(30, 60, 120, 200). Посмотреть к чему стремится $p(L)$"
   ]
  },
  {
   "cell_type": "code",
   "execution_count": 28,
   "metadata": {},
   "outputs": [
    {
     "data": {
      "text/plain": [
       "200"
      ]
     },
     "execution_count": 28,
     "metadata": {},
     "output_type": "execute_result"
    }
   ],
   "source": [
    "len(qh)"
   ]
  },
  {
   "cell_type": "code",
   "execution_count": 30,
   "metadata": {},
   "outputs": [
    {
     "name": "stdout",
     "output_type": "stream",
     "text": [
      "Порог перколяции повертикали: 0.505\n",
      "Порог перколяции погоризонтали: 0.505\n",
      "Порог перколяции пообоим: 0.51\n"
     ]
    }
   ],
   "source": [
    "def find_p(arr, l, eps):\n",
    "    r = []\n",
    "    for i in range(len(arr)):\n",
    "        if l-eps < arr[i] < l+eps:\n",
    "            r.append(p[i])\n",
    "    return r\n",
    "q = [(qv,'вертикали'),(qh,'горизонтали'),(qb, 'обоим')]\n",
    "for i, k in q:\n",
    "    print(\"Порог перколяции по\" + k+\":\", min(find_p(i, 50,11)))"
   ]
  }
 ],
 "metadata": {
  "kernelspec": {
   "display_name": "Python 3.10.0 64-bit",
   "language": "python",
   "name": "python3"
  },
  "language_info": {
   "codemirror_mode": {
    "name": "ipython",
    "version": 3
   },
   "file_extension": ".py",
   "mimetype": "text/x-python",
   "name": "python",
   "nbconvert_exporter": "python",
   "pygments_lexer": "ipython3",
   "version": "3.11.3"
  },
  "orig_nbformat": 4,
  "vscode": {
   "interpreter": {
    "hash": "d97898c1a5f54c7075e27078280b9eb50e6ea0473555481f63afc6871973d9cc"
   }
  }
 },
 "nbformat": 4,
 "nbformat_minor": 2
}
